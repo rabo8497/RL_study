{
 "cells": [
  {
   "cell_type": "code",
   "execution_count": 19,
   "id": "5c2652ff",
   "metadata": {
    "scrolled": true
   },
   "outputs": [
    {
     "name": "stdout",
     "output_type": "stream",
     "text": [
      "Using cuda device\n",
      "Wrapping the env with a `Monitor` wrapper\n",
      "Wrapping the env in a DummyVecEnv.\n",
      "Wrapping the env in a VecTransposeImage.\n",
      "Using cuda device\n",
      "Wrapping the env with a `Monitor` wrapper\n",
      "Wrapping the env in a DummyVecEnv.\n",
      "Wrapping the env in a VecTransposeImage.\n"
     ]
    },
    {
     "ename": "TypeError",
     "evalue": "list indices must be integers or slices, not list",
     "output_type": "error",
     "traceback": [
      "\u001b[1;31m---------------------------------------------------------------------------\u001b[0m",
      "\u001b[1;31mTypeError\u001b[0m                                 Traceback (most recent call last)",
      "Cell \u001b[1;32mIn[19], line 22\u001b[0m\n\u001b[0;32m     20\u001b[0m action2, _ \u001b[38;5;241m=\u001b[39m policy2\u001b[38;5;241m.\u001b[39mpredict(obs, deterministic\u001b[38;5;241m=\u001b[39m\u001b[38;5;28;01mTrue\u001b[39;00m)\n\u001b[0;32m     21\u001b[0m \u001b[38;5;66;03m# execute actions\u001b[39;00m\n\u001b[1;32m---> 22\u001b[0m obs, reward, done, info \u001b[38;5;241m=\u001b[39m \u001b[43menv\u001b[49m\u001b[38;5;241;43m.\u001b[39;49m\u001b[43mstep\u001b[49m\u001b[43m(\u001b[49m\u001b[43m[\u001b[49m\u001b[43maction1\u001b[49m\u001b[43m,\u001b[49m\u001b[43m \u001b[49m\u001b[43maction2\u001b[49m\u001b[43m]\u001b[49m\u001b[43m)\u001b[49m\n\u001b[0;32m     23\u001b[0m \u001b[38;5;66;03m# update policies\u001b[39;00m\n\u001b[0;32m     24\u001b[0m policy1\u001b[38;5;241m.\u001b[39mcollect_rollouts(obs, action1, reward, done)\n",
      "File \u001b[1;32mD:\\Anaconda\\envs\\torch\\lib\\site-packages\\gym\\wrappers\\time_limit.py:18\u001b[0m, in \u001b[0;36mTimeLimit.step\u001b[1;34m(self, action)\u001b[0m\n\u001b[0;32m     14\u001b[0m \u001b[38;5;28;01mdef\u001b[39;00m \u001b[38;5;21mstep\u001b[39m(\u001b[38;5;28mself\u001b[39m, action):\n\u001b[0;32m     15\u001b[0m     \u001b[38;5;28;01massert\u001b[39;00m (\n\u001b[0;32m     16\u001b[0m         \u001b[38;5;28mself\u001b[39m\u001b[38;5;241m.\u001b[39m_elapsed_steps \u001b[38;5;129;01mis\u001b[39;00m \u001b[38;5;129;01mnot\u001b[39;00m \u001b[38;5;28;01mNone\u001b[39;00m\n\u001b[0;32m     17\u001b[0m     ), \u001b[38;5;124m\"\u001b[39m\u001b[38;5;124mCannot call env.step() before calling reset()\u001b[39m\u001b[38;5;124m\"\u001b[39m\n\u001b[1;32m---> 18\u001b[0m     observation, reward, done, info \u001b[38;5;241m=\u001b[39m \u001b[38;5;28;43mself\u001b[39;49m\u001b[38;5;241;43m.\u001b[39;49m\u001b[43menv\u001b[49m\u001b[38;5;241;43m.\u001b[39;49m\u001b[43mstep\u001b[49m\u001b[43m(\u001b[49m\u001b[43maction\u001b[49m\u001b[43m)\u001b[49m\n\u001b[0;32m     19\u001b[0m     \u001b[38;5;28mself\u001b[39m\u001b[38;5;241m.\u001b[39m_elapsed_steps \u001b[38;5;241m+\u001b[39m\u001b[38;5;241m=\u001b[39m \u001b[38;5;241m1\u001b[39m\n\u001b[0;32m     20\u001b[0m     \u001b[38;5;28;01mif\u001b[39;00m \u001b[38;5;28mself\u001b[39m\u001b[38;5;241m.\u001b[39m_elapsed_steps \u001b[38;5;241m>\u001b[39m\u001b[38;5;241m=\u001b[39m \u001b[38;5;28mself\u001b[39m\u001b[38;5;241m.\u001b[39m_max_episode_steps:\n",
      "File \u001b[1;32mD:\\Anaconda\\envs\\torch\\lib\\site-packages\\gym\\envs\\atari\\environment.py:207\u001b[0m, in \u001b[0;36mAtariEnv.step\u001b[1;34m(self, action_ind)\u001b[0m\n\u001b[0;32m    193\u001b[0m \u001b[38;5;250m\u001b[39m\u001b[38;5;124;03m\"\"\"\u001b[39;00m\n\u001b[0;32m    194\u001b[0m \u001b[38;5;124;03mPerform one agent step, i.e., repeats `action` frameskip # of steps.\u001b[39;00m\n\u001b[0;32m    195\u001b[0m \n\u001b[1;32m   (...)\u001b[0m\n\u001b[0;32m    204\u001b[0m \u001b[38;5;124;03m      render_mode == 'rgb_array'.\u001b[39;00m\n\u001b[0;32m    205\u001b[0m \u001b[38;5;124;03m\"\"\"\u001b[39;00m\n\u001b[0;32m    206\u001b[0m \u001b[38;5;66;03m# Get action enum, terminal bool, metadata\u001b[39;00m\n\u001b[1;32m--> 207\u001b[0m action \u001b[38;5;241m=\u001b[39m \u001b[38;5;28;43mself\u001b[39;49m\u001b[38;5;241;43m.\u001b[39;49m\u001b[43m_action_set\u001b[49m\u001b[43m[\u001b[49m\u001b[43maction_ind\u001b[49m\u001b[43m]\u001b[49m\n\u001b[0;32m    208\u001b[0m terminal \u001b[38;5;241m=\u001b[39m \u001b[38;5;28mself\u001b[39m\u001b[38;5;241m.\u001b[39male\u001b[38;5;241m.\u001b[39mgame_over()\n\u001b[0;32m    210\u001b[0m \u001b[38;5;66;03m# If frameskip is a length 2 tuple then it's stochastic\u001b[39;00m\n\u001b[0;32m    211\u001b[0m \u001b[38;5;66;03m# frameskip between [frameskip[0], frameskip[1]] uniformly.\u001b[39;00m\n",
      "\u001b[1;31mTypeError\u001b[0m: list indices must be integers or slices, not list"
     ]
    }
   ],
   "source": [
    "import gym\n",
    "from stable_baselines3 import PPO\n",
    "\n",
    "# create environment\n",
    "env = gym.make('Pong-v0')\n",
    "\n",
    "# define policies for each player\n",
    "policy1 = PPO('MlpPolicy', env, verbose=1)\n",
    "policy2 = PPO('MlpPolicy', env, verbose=1)\n",
    "\n",
    "# train the agents\n",
    "for i in range(10000):\n",
    "    # play a game\n",
    "    obs = env.reset()\n",
    "    done = False\n",
    "    while not done:\n",
    "        # agent 1 takes action\n",
    "        action1, _ = policy1.predict(obs)\n",
    "        # agent 2 takes action\n",
    "        action2, _ = policy2.predict(obs, deterministic=True)\n",
    "        # execute actions\n",
    "        obs, reward, done, info = env.step([action1, action2])\n",
    "        # update policies\n",
    "        policy1.collect_rollouts(obs, action1, reward, done)\n",
    "        policy2.collect_rollouts(obs, action2, reward, done)\n",
    "    # train policies\n",
    "    policy1.train()\n",
    "    policy2.train()\n",
    "\n",
    "# save policies\n",
    "policy1.save('policy1')\n",
    "policy2.save('policy2')\n"
   ]
  },
  {
   "cell_type": "code",
   "execution_count": 20,
   "id": "77fdc927",
   "metadata": {},
   "outputs": [
    {
     "ename": "ImportError",
     "evalue": "cannot import name 'PikachuVolleyballMultiEnv' from 'gym_pikachu_volleyball.envs.pikachu_volleyball' (D:\\Anaconda\\envs\\torch\\lib\\site-packages\\gym_pikachu_volleyball-0.0.6-py3.10.egg\\gym_pikachu_volleyball\\envs\\pikachu_volleyball.py)",
     "output_type": "error",
     "traceback": [
      "\u001b[1;31m---------------------------------------------------------------------------\u001b[0m",
      "\u001b[1;31mImportError\u001b[0m                               Traceback (most recent call last)",
      "Cell \u001b[1;32mIn[20], line 1\u001b[0m\n\u001b[1;32m----> 1\u001b[0m \u001b[38;5;28;01mfrom\u001b[39;00m \u001b[38;5;21;01mgym_pikachu_volleyball\u001b[39;00m\u001b[38;5;21;01m.\u001b[39;00m\u001b[38;5;21;01menvs\u001b[39;00m\u001b[38;5;21;01m.\u001b[39;00m\u001b[38;5;21;01mpikachu_volleyball\u001b[39;00m \u001b[38;5;28;01mimport\u001b[39;00m PikachuVolleyballMultiEnv\n",
      "\u001b[1;31mImportError\u001b[0m: cannot import name 'PikachuVolleyballMultiEnv' from 'gym_pikachu_volleyball.envs.pikachu_volleyball' (D:\\Anaconda\\envs\\torch\\lib\\site-packages\\gym_pikachu_volleyball-0.0.6-py3.10.egg\\gym_pikachu_volleyball\\envs\\pikachu_volleyball.py)"
     ]
    }
   ],
   "source": [
    "from gym_pikachu_volleyball.envs.pikachu_volleyball import PikachuVolleyballMultiEnv"
   ]
  },
  {
   "cell_type": "code",
   "execution_count": 26,
   "id": "df4254c1",
   "metadata": {},
   "outputs": [
    {
     "ename": "ImportError",
     "evalue": "cannot import name 'PikachuVolleyballMultiEnv' from 'gym_pikachu_volleyball.envs.pikachu_volleyball' (D:\\Anaconda\\envs\\torch\\lib\\site-packages\\gym_pikachu_volleyball-0.0.6-py3.10.egg\\gym_pikachu_volleyball\\envs\\pikachu_volleyball.py)",
     "output_type": "error",
     "traceback": [
      "\u001b[1;31m---------------------------------------------------------------------------\u001b[0m",
      "\u001b[1;31mImportError\u001b[0m                               Traceback (most recent call last)",
      "Cell \u001b[1;32mIn[26], line 1\u001b[0m\n\u001b[1;32m----> 1\u001b[0m \u001b[38;5;28;01mfrom\u001b[39;00m \u001b[38;5;21;01mgym_pikachu_volleyball\u001b[39;00m\u001b[38;5;21;01m.\u001b[39;00m\u001b[38;5;21;01menvs\u001b[39;00m\u001b[38;5;21;01m.\u001b[39;00m\u001b[38;5;21;01mpikachu_volleyball\u001b[39;00m \u001b[38;5;28;01mimport\u001b[39;00m PikachuVolleyballMultiEnv\n\u001b[0;32m      2\u001b[0m env \u001b[38;5;241m=\u001b[39m PikachuVolleyballMultiEnv(render_mode\u001b[38;5;241m=\u001b[39m\u001b[38;5;124m'\u001b[39m\u001b[38;5;124m'\u001b[39m)\n\u001b[0;32m      3\u001b[0m option\u001b[38;5;241m=\u001b[39m{\u001b[38;5;124m'\u001b[39m\u001b[38;5;124mis_player1_serve\u001b[39m\u001b[38;5;124m'\u001b[39m : \u001b[38;5;28;01mFalse\u001b[39;00m, \u001b[38;5;124m'\u001b[39m\u001b[38;5;124mis_player2_serve\u001b[39m\u001b[38;5;124m'\u001b[39m : \u001b[38;5;28;01mTrue\u001b[39;00m}\n",
      "\u001b[1;31mImportError\u001b[0m: cannot import name 'PikachuVolleyballMultiEnv' from 'gym_pikachu_volleyball.envs.pikachu_volleyball' (D:\\Anaconda\\envs\\torch\\lib\\site-packages\\gym_pikachu_volleyball-0.0.6-py3.10.egg\\gym_pikachu_volleyball\\envs\\pikachu_volleyball.py)"
     ]
    }
   ],
   "source": [
    "from gym_pikachu_volleyball.envs.pikachu_volleyball import PikachuVolleyballMultiEnv\n",
    "env = PikachuVolleyballMultiEnv(render_mode='')\n",
    "option={'is_player1_serve' : False, 'is_player2_serve' : True}"
   ]
  },
  {
   "cell_type": "code",
   "execution_count": null,
   "id": "0658b528",
   "metadata": {
    "collapsed": true
   },
   "outputs": [],
   "source": []
  }
 ],
 "metadata": {
  "kernelspec": {
   "display_name": "Python 3 (ipykernel)",
   "language": "python",
   "name": "python3"
  },
  "language_info": {
   "codemirror_mode": {
    "name": "ipython",
    "version": 3
   },
   "file_extension": ".py",
   "mimetype": "text/x-python",
   "name": "python",
   "nbconvert_exporter": "python",
   "pygments_lexer": "ipython3",
   "version": "3.10.9"
  }
 },
 "nbformat": 4,
 "nbformat_minor": 5
}
