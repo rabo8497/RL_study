{
 "cells": [
  {
   "cell_type": "code",
   "execution_count": 234,
   "metadata": {},
   "outputs": [],
   "source": [
    "import numpy as np\n",
    "import random\n",
    "import gym\n",
    "import torch\n",
    "import torch.nn as nn\n",
    "import torch.optim as optim\n",
    "import torch.nn.functional as F\n",
    "from collections import deque \n",
    "import math\n",
    "from tqdm import tqdm\n",
    "import matplotlib.pyplot as plt\n",
    "\n",
    "# 설정\n",
    "SEED = 0\n",
    "BATCH_SIZE = 64\n",
    "LR = 1e-4\n",
    "GAMMA = 0.99\n",
    "EPISODES = 5000\n",
    "MEMORY_SIZE = 10000\n",
    "TARGET_UPDATE = 10\n",
    "HIDDEN_SIZE = 128\n",
    "EPS_START = 0.9\n",
    "EPS_END = 0.05\n",
    "EPS_DECAY = 5000"
   ]
  },
  {
   "cell_type": "code",
   "execution_count": 235,
   "metadata": {},
   "outputs": [],
   "source": [
    "class DRQN(nn.Module):\n",
    "    def __init__(self, input_dim, hidden_dim, output_dim):\n",
    "        super(DRQN, self).__init__()\n",
    "        self.rnn = nn.LSTM(input_dim, hidden_dim, batch_first=True)\n",
    "        self.fc = nn.Linear(hidden_dim, output_dim)\n",
    "\n",
    "    def forward(self, x, hidden=None):\n",
    "        out, _ = self.rnn(x)\n",
    "        q_values = self.fc(out)\n",
    "        return q_values"
   ]
  },
  {
   "cell_type": "code",
   "execution_count": 236,
   "metadata": {},
   "outputs": [],
   "source": [
    "class ReplayMemory:\n",
    "    def __init__(self, capacity):\n",
    "        self.capacity = capacity\n",
    "        self.memory = deque(maxlen=self.capacity)\n",
    "\n",
    "    def push(self, transition):\n",
    "        self.memory.append(transition)\n",
    "\n",
    "    def sample(self, batch_size):\n",
    "        return random.sample(self.memory, batch_size)\n",
    "\n",
    "    def __len__(self):\n",
    "        return len(self.memory)\n"
   ]
  },
  {
   "cell_type": "code",
   "execution_count": 237,
   "metadata": {},
   "outputs": [],
   "source": [
    "def optimize_model() :\n",
    "    if len(memory) < BATCH_SIZE :\n",
    "        return\n",
    "    transitions = memory.sample(BATCH_SIZE)\n",
    "    batch = list(zip(*transitions))\n",
    "\n",
    "    dummy_state = torch.zeros_like(batch[0][0]).to(device)\n",
    "\n",
    "    non_final_mask = torch.tensor(tuple(map(lambda s: s is not None, batch[3])), dtype=torch.bool).to(device)\n",
    "    non_final_next_states = torch.cat([s for s in batch[3] if s is not None]).to(device)\n",
    "\n",
    "    state_batch = torch.cat(batch[0]).to(device)\n",
    "    action_batch = torch.cat(batch[1]).to(device)\n",
    "    reward_batch = torch.cat(batch[2]).to(device)\n",
    "\n",
    "    state_action_values = policy_net(state_batch).gather(1, action_batch)\n",
    "    next_state_values = torch.zeros(BATCH_SIZE).to(device)\n",
    "\n",
    "    next_state_values[non_final_mask] = target_net(non_final_next_states).max(1)[0].detach()\n",
    "    expected_state_action_values = (next_state_values * GAMMA) + reward_batch\n",
    "\n",
    "    loss = nn.MSELoss()(state_action_values, expected_state_action_values.unsqueeze(1))\n",
    "    optimizer.zero_grad()\n",
    "    loss.backward()\n",
    "    optimizer.step()"
   ]
  },
  {
   "cell_type": "code",
   "execution_count": 238,
   "metadata": {},
   "outputs": [],
   "source": [
    "env = gym.make('CartPole-v1')\n",
    "n_actions = env.action_space.n\n",
    "n_states = env.observation_space.shape[0]\n",
    "device = torch.device(\"cuda\")\n",
    "policy_net = DRQN(n_states, HIDDEN_SIZE, n_actions).float().to(device)\n",
    "target_net = DRQN(n_states, HIDDEN_SIZE, n_actions).float().to(device)\n",
    "target_net.load_state_dict(policy_net.state_dict())\n",
    "target_net.eval()\n",
    "optimizer = optim.Adam(policy_net.parameters(), lr=LR)\n",
    "memory = ReplayMemory(MEMORY_SIZE)"
   ]
  },
  {
   "cell_type": "code",
   "execution_count": 244,
   "metadata": {},
   "outputs": [
    {
     "name": "stderr",
     "output_type": "stream",
     "text": [
      " 80%|███████▉  | 3980/5000 [05:23<01:23, 12.28it/s]\n"
     ]
    },
    {
     "data": {
      "image/png": "[encoded data removed]",
      "text/plain": [
       "<Figure size 640x480 with 1 Axes>"
      ]
     },
     "metadata": {},
     "output_type": "display_data"
    }
   ],
   "source": [
    "time_step = 0\n",
    "rewards_list = []\n",
    "for episode in tqdm(range(EPISODES)) :\n",
    "    time_step += 1\n",
    "    state = torch.tensor([env.reset()[0]], dtype=torch.float32).to(device)\n",
    "    reward_value = 0\n",
    "    while True :\n",
    "        sample = random.random()\n",
    "        eps_threshold = EPS_END + (EPS_START - EPS_END) * math.exp(-1 * time_step / EPS_DECAY)\n",
    "        if random_value > 0.8 :\n",
    "            action = torch.tensor([[random.choice([0, 1])]]).to(device)\n",
    "        else :\n",
    "            action = policy_net(state).max(1)[1].view(1, 1)\n",
    "        #print(action)\n",
    "        next_state, reward, done1, done2, _ = env.step(action.item())\n",
    "        reward_value += 1\n",
    "        reward = torch.tensor([reward], dtype=torch.float32).to(device)\n",
    "        done = done1 or done2\n",
    "\n",
    "        if not done :\n",
    "            next_state = torch.tensor([next_state], dtype=torch.float32).to(device)\n",
    "        else :\n",
    "            next_state = None\n",
    "        memory.push((state, action, reward, next_state))\n",
    "        state = next_state\n",
    "\n",
    "        optimize_model()\n",
    "        if done :\n",
    "            break\n",
    "    rewards_list.append(reward_value)\n",
    "    if episode % TARGET_UPDATE == 0 :\n",
    "        target_net.load_state_dict(policy_net.state_dict())\n",
    "        if len(rewards_list) > 3 and sum(rewards_list[-3:]) == 1500 :\n",
    "            break\n",
    "env.close()\n",
    "plt.plot(rewards_list)\n",
    "plt.title('episode-score graph')\n",
    "plt.xlabel('episode')\n",
    "plt.ylabel('score')\n",
    "plt.savefig('main_dqn.png')\n",
    "plt.show()"
   ]
  }
 ],
 "metadata": {
  "kernelspec": {
   "display_name": "torch",
   "language": "python",
   "name": "python3"
  },
  "language_info": {
   "codemirror_mode": {
    "name": "ipython",
    "version": 3
   },
   "file_extension": ".py",
   "mimetype": "text/x-python",
   "name": "python",
   "nbconvert_exporter": "python",
   "pygments_lexer": "ipython3",
   "version": "3.9.16"
  },
  "orig_nbformat": 4
 },
 "nbformat": 4,
 "nbformat_minor": 2
}
